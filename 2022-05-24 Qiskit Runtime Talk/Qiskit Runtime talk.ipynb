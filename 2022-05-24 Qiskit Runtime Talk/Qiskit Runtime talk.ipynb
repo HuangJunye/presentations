{
 "cells": [
  {
   "cell_type": "markdown",
   "id": "4f6a6d51",
   "metadata": {
    "slideshow": {
     "slide_type": "notes"
    }
   },
   "source": [
    "Outline\n",
    "- Cover\n",
    "- Speaker\n",
    "- Overview\n",
    "- What is Qiskit Runtime\n",
    "    - Why do we want to use Qiskit Runtime?\n",
    "- Getting started with Qiskit Runtime\n",
    "    - Installation\n",
    "    - Get access credentials\n",
    "    - Run \"hello world\" program\n",
    "- Primitives\n",
    "    - Why do we want to change to primitives model?\n",
    "    - What are the primitives?\n",
    "        - Sampler\n",
    "        - Estimator\n",
    "    - Demo\n",
    "        - Grover with sampler\n",
    "        - VQE with estimator\n",
    "            - Qiskit Nature and other modules will be refactored"
   ]
  },
  {
   "cell_type": "markdown",
   "id": "39461425",
   "metadata": {
    "slideshow": {
     "slide_type": "slide"
    }
   },
   "source": [
    "# Qiskit Runtime talk\n",
    "\n",
    "By Junye Huang, Quantum Developer Advocate\n",
    "\n",
    "Date: May 24, 2022"
   ]
  },
  {
   "cell_type": "markdown",
   "id": "5bb45ed2",
   "metadata": {
    "slideshow": {
     "slide_type": "slide"
    }
   },
   "source": [
    "# About the speaker\n",
    "\n",
    "Junye Huang is a Quantum Developer Advocate focusing on quantum education."
   ]
  },
  {
   "cell_type": "markdown",
   "id": "2c573008",
   "metadata": {
    "slideshow": {
     "slide_type": "slide"
    }
   },
   "source": [
    "# Outline\n",
    "\n",
    "- What is Qiskit Runtime\n",
    "    - Why do we want to use Qiskit Runtime?\n",
    "- Getting started with Qiskit Runtime\n",
    "    - Installation\n",
    "    - Get access credentials\n",
    "    - Run \"hello world\" program\n",
    "- Primitives\n",
    "    - Why do we want to change to primitives model?\n",
    "    - What are the primitives?\n",
    "        - Sampler\n",
    "        - Estimator\n",
    "    - Demo\n",
    "        - Grover with sampler\n",
    "        - VQE with estimator\n",
    "            - Qiskit Nature and other modules will be refactored"
   ]
  },
  {
   "cell_type": "markdown",
   "id": "a734aa50",
   "metadata": {
    "slideshow": {
     "slide_type": "slide"
    }
   },
   "source": [
    "# What is Qiskit Runtime\n",
    "\n",
    "Qiskit Runtime is a new programming model, bring quantum closer to classical to speed up hybrid workflow\n",
    "\n",
    "\n",
    "## Why do we want  to use Qiskit Runtime?\n",
    "\n",
    "Qiskit Runtime can speed up hybrid workflow"
   ]
  },
  {
   "cell_type": "markdown",
   "id": "405ed462",
   "metadata": {
    "slideshow": {
     "slide_type": "slide"
    }
   },
   "source": [
    "# Getting started with Qiskit Runtime"
   ]
  },
  {
   "cell_type": "markdown",
   "id": "7f1a7300",
   "metadata": {
    "slideshow": {
     "slide_type": "subslide"
    }
   },
   "source": [
    "# Installation\n",
    "\n",
    "```bash\n",
    "pip install qiskit\n",
    "pip install qiskit-ibm-runtime\n",
    "```"
   ]
  },
  {
   "cell_type": "markdown",
   "id": "a7207d1f",
   "metadata": {
    "slideshow": {
     "slide_type": "subslide"
    }
   },
   "source": [
    "# Find your access credentials\n",
    "\n",
    "You can access Qiskit Runtime from either IBM Quantum or IBM Cloud.\n",
    "\n",
    "## IBM Quantum"
   ]
  },
  {
   "cell_type": "code",
   "execution_count": null,
   "id": "7b939430",
   "metadata": {
    "slideshow": {
     "slide_type": "fragment"
    }
   },
   "outputs": [],
   "source": [
    "from qiskit_ibm_runtime import QiskitRuntimeService\n",
    "\n",
    "# Save an IBM Quantum account.\n",
    "QiskitRuntimeService.save_account(channel=\"ibm_quantum\", token=\"MY_IBM_QUANTUM_TOKEN\")"
   ]
  },
  {
   "cell_type": "markdown",
   "id": "adceff23",
   "metadata": {
    "slideshow": {
     "slide_type": "fragment"
    }
   },
   "source": [
    "Retrieve IBM Quantum token here: https://quantum-computing.ibm.com/account\n",
    "\n",
    "## IBM Cloud"
   ]
  },
  {
   "cell_type": "code",
   "execution_count": null,
   "id": "29c6bd44",
   "metadata": {
    "slideshow": {
     "slide_type": "fragment"
    }
   },
   "outputs": [],
   "source": [
    "# Save an IBM Cloud account.\n",
    "QiskitRuntimeService.save_account(channel=\"ibm_cloud\", \n",
    "                                  token=\"MY_IBM_CLOUD_API_KEY\", \n",
    "                                  instance=\"MY_IBM_CLOUD_CRN\")"
   ]
  },
  {
   "cell_type": "markdown",
   "id": "b6deea09",
   "metadata": {
    "slideshow": {
     "slide_type": "fragment"
    }
   },
   "source": [
    "Retrieve IBM Cloud token here: https://cloud.ibm.com/docs/quantum-computing?topic=quantum-computing-quickstart"
   ]
  },
  {
   "cell_type": "markdown",
   "id": "0ca6e0f9",
   "metadata": {
    "slideshow": {
     "slide_type": "subslide"
    }
   },
   "source": [
    "# Run \"Hello World\" program"
   ]
  },
  {
   "cell_type": "code",
   "execution_count": 1,
   "id": "54ff314a",
   "metadata": {
    "slideshow": {
     "slide_type": "fragment"
    }
   },
   "outputs": [
    {
     "name": "stdout",
     "output_type": "stream",
     "text": [
      "job id: ca5lj9ogeghp9h38bu40\n",
      "Hello, World!\n"
     ]
    }
   ],
   "source": [
    "from qiskit_ibm_runtime import QiskitRuntimeService\n",
    "\n",
    "service = QiskitRuntimeService()\n",
    "program_inputs = {'iterations': 1}\n",
    "options = {\"backend_name\": \"ibmq_qasm_simulator\"}\n",
    "job = service.run(program_id=\"hello-world\",\n",
    "                options=options,\n",
    "                inputs=program_inputs\n",
    "                )\n",
    "print(f\"job id: {job.job_id}\")\n",
    "result = job.result()\n",
    "print(result)"
   ]
  },
  {
   "cell_type": "markdown",
   "id": "ad3dd4c3",
   "metadata": {
    "slideshow": {
     "slide_type": "slide"
    }
   },
   "source": [
    "# Qiskit Primitives\n",
    "\n",
    "What are they and why do we need them?"
   ]
  },
  {
   "cell_type": "markdown",
   "id": "62cdafef",
   "metadata": {
    "slideshow": {
     "slide_type": "subslide"
    }
   },
   "source": [
    "# Sampler primitive"
   ]
  },
  {
   "cell_type": "markdown",
   "id": "e85c9301",
   "metadata": {
    "slideshow": {
     "slide_type": "subslide"
    }
   },
   "source": [
    "# Estimator primitive"
   ]
  },
  {
   "cell_type": "markdown",
   "id": "a4b09aa5",
   "metadata": {
    "slideshow": {
     "slide_type": "subslide"
    }
   },
   "source": [
    "# More primitives in the roadmap\n",
    "\n",
    "- Integrator\n",
    "- Discriminator"
   ]
  },
  {
   "cell_type": "markdown",
   "id": "318b2d13",
   "metadata": {
    "slideshow": {
     "slide_type": "slide"
    }
   },
   "source": [
    "# How to use Sampler primitive"
   ]
  },
  {
   "cell_type": "code",
   "execution_count": 2,
   "id": "66cb4475",
   "metadata": {
    "slideshow": {
     "slide_type": "fragment"
    }
   },
   "outputs": [
    {
     "data": {
      "image/png": "[encoded data removed]",
      "text/plain": [
       "<Figure size 417.879x204.68 with 1 Axes>"
      ]
     },
     "execution_count": 2,
     "metadata": {},
     "output_type": "execute_result"
    }
   ],
   "source": [
    "from qiskit import QuantumCircuit\n",
    "\n",
    "bell = QuantumCircuit(2)\n",
    "bell.h(0)\n",
    "bell.cx(0, 1)\n",
    "bell.measure_all()\n",
    "bell.draw()"
   ]
  },
  {
   "cell_type": "code",
   "execution_count": 3,
   "id": "34ced19d",
   "metadata": {
    "slideshow": {
     "slide_type": "subslide"
    }
   },
   "outputs": [
    {
     "name": "stdout",
     "output_type": "stream",
     "text": [
      "SamplerResult(quasi_dists=[{'11': 0.505859375, '00': 0.494140625}], metadata=[{'header_metadata': {}, 'shots': 1024}])\n"
     ]
    }
   ],
   "source": [
    "from qiskit_ibm_runtime import Sampler\n",
    "\n",
    "with Sampler(circuits=bell, service=service, options={ \"backend\": \"ibmq_qasm_simulator\" }) as sampler:\n",
    "    result = sampler(circuit_indices=[0], shots=1024)\n",
    "    print(result)"
   ]
  },
  {
   "cell_type": "markdown",
   "id": "e4f72317",
   "metadata": {
    "slideshow": {
     "slide_type": "fragment"
    }
   },
   "source": [
    "## Running mutiple circuits"
   ]
  },
  {
   "cell_type": "code",
   "execution_count": 5,
   "id": "da5fcd32",
   "metadata": {
    "slideshow": {
     "slide_type": "fragment"
    }
   },
   "outputs": [
    {
     "name": "stdout",
     "output_type": "stream",
     "text": [
      "SamplerResult(quasi_dists=[{'11': 0.4970703125, '00': 0.5029296875}, {'00': 0.49462890625, '11': 0.50537109375}, {'11': 0.4990234375, '00': 0.5009765625}], metadata=[{'header_metadata': {}, 'shots': 2048}, {'header_metadata': {}, 'shots': 2048}, {'header_metadata': {}, 'shots': 2048}])\n"
     ]
    }
   ],
   "source": [
    "with Sampler(circuits=[bell]*3, service=service, options={ \"backend\": \"ibmq_qasm_simulator\" }) as sampler:\n",
    "    result = sampler(circuit_indices=[0, 1, 2], shots=2048)\n",
    "    print(result)"
   ]
  },
  {
   "cell_type": "markdown",
   "id": "4de85a31",
   "metadata": {
    "slideshow": {
     "slide_type": "subslide"
    }
   },
   "source": [
    "# Running parameterized circuits"
   ]
  },
  {
   "cell_type": "code",
   "execution_count": 11,
   "id": "164988d6",
   "metadata": {
    "slideshow": {
     "slide_type": "fragment"
    }
   },
   "outputs": [
    {
     "data": {
      "image/png": "[encoded data removed]",
      "text/plain": [
       "<Figure size 598.479x204.68 with 1 Axes>"
      ]
     },
     "metadata": {},
     "output_type": "display_data"
    },
    {
     "data": {
      "image/png": "[encoded data removed]",
      "text/plain": [
       "<Figure size 718.879x204.68 with 1 Axes>"
      ]
     },
     "metadata": {},
     "output_type": "display_data"
    }
   ],
   "source": [
    "from qiskit.circuit.library import RealAmplitudes\n",
    "from IPython.display import display\n",
    "\n",
    "# parameterized circuit\n",
    "pqc = RealAmplitudes(num_qubits=2, reps=2)\n",
    "pqc.measure_all()\n",
    "pqc2 = RealAmplitudes(num_qubits=2, reps=3)\n",
    "pqc2.measure_all()\n",
    "display(pqc.decompose().draw())\n",
    "display(pqc2.decompose().draw())"
   ]
  },
  {
   "cell_type": "code",
   "execution_count": 12,
   "id": "acd469cd",
   "metadata": {
    "slideshow": {
     "slide_type": "subslide"
    }
   },
   "outputs": [
    {
     "name": "stdout",
     "output_type": "stream",
     "text": [
      "SamplerResult(quasi_dists=[{'00': 0.1298828125, '10': 0.078125, '11': 0.4541015625, '01': 0.337890625}, {'01': 0.0400390625, '11': 0.28125, '10': 0.609375, '00': 0.0693359375}, {'11': 0.0283203125, '01': 0.6767578125, '00': 0.2041015625, '10': 0.0908203125}], metadata=[{'header_metadata': {}, 'shots': 1024}, {'header_metadata': {}, 'shots': 1024}, {'header_metadata': {}, 'shots': 1024}])\n"
     ]
    }
   ],
   "source": [
    "theta1 = [0, 1, 1, 2, 3, 5]\n",
    "theta2 = [1, 2, 3, 4, 5, 6]\n",
    "theta3 = [0, 1, 2, 3, 4, 5, 6, 7]\n",
    "\n",
    "with Sampler(circuits=[pqc, pqc2], service=service, options={ \"backend\": \"ibmq_qasm_simulator\" }) as sampler:\n",
    "    result = sampler(circuit_indices=[0, 0, 1], parameter_values=[theta1, theta2, theta3])\n",
    "    print(result)"
   ]
  }
 ],
 "metadata": {
  "celltoolbar": "Slideshow",
  "kernelspec": {
   "display_name": "primitives",
   "language": "python",
   "name": "primitives"
  },
  "language_info": {
   "codemirror_mode": {
    "name": "ipython",
    "version": 3
   },
   "file_extension": ".py",
   "mimetype": "text/x-python",
   "name": "python",
   "nbconvert_exporter": "python",
   "pygments_lexer": "ipython3",
   "version": "3.9.7"
  }
 },
 "nbformat": 4,
 "nbformat_minor": 5
}
