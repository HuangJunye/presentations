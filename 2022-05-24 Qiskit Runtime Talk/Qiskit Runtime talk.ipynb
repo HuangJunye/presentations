{
 "cells": [
  {
   "cell_type": "markdown",
   "id": "4f6a6d51",
   "metadata": {
    "slideshow": {
     "slide_type": "notes"
    }
   },
   "source": [
    "Outline\n",
    "- Cover\n",
    "- Speaker\n",
    "- Overview\n",
    "- What is Qiskit Runtime\n",
    "    - Why do we want to use Qiskit Runtime?\n",
    "- Getting started with Qiskit Runtime\n",
    "    - Installation\n",
    "    - Get access credentials\n",
    "    - Run \"hello world\" program\n",
    "- Primitives\n",
    "    - Why do we want to change to primitives model?\n",
    "    - What are the primitives?\n",
    "        - Sampler\n",
    "        - Estimator\n",
    "    - Demo\n",
    "        - Grover with sampler\n",
    "        - VQE with estimator\n",
    "            - Qiskit Nature and other modules will be refactored"
   ]
  },
  {
   "cell_type": "markdown",
   "id": "39461425",
   "metadata": {
    "slideshow": {
     "slide_type": "slide"
    }
   },
   "source": [
    "# Qiskit Runtime talk\n",
    "\n",
    "By Junye Huang, Quantum Developer Advocate\n",
    "\n",
    "Date: May 24, 2022"
   ]
  },
  {
   "cell_type": "markdown",
   "id": "5bb45ed2",
   "metadata": {
    "slideshow": {
     "slide_type": "slide"
    }
   },
   "source": [
    "# About the speaker\n",
    "\n",
    "Junye Huang is a Quantum Developer Advocate focusing on quantum education."
   ]
  },
  {
   "cell_type": "markdown",
   "id": "2c573008",
   "metadata": {
    "slideshow": {
     "slide_type": "slide"
    }
   },
   "source": [
    "# Outline\n",
    "\n",
    "- What is Qiskit Runtime\n",
    "    - Why do we want to use Qiskit Runtime?\n",
    "- Getting started with Qiskit Runtime\n",
    "    - Installation\n",
    "    - Get access credentials\n",
    "    - Run \"hello world\" program\n",
    "- Primitives\n",
    "    - Why do we want to change to primitives model?\n",
    "    - What are the primitives?\n",
    "        - Sampler\n",
    "        - Estimator\n",
    "    - Demo\n",
    "        - Grover with sampler\n",
    "        - VQE with estimator\n",
    "            - Qiskit Nature and other modules will be refactored"
   ]
  },
  {
   "cell_type": "markdown",
   "id": "a734aa50",
   "metadata": {
    "slideshow": {
     "slide_type": "slide"
    }
   },
   "source": [
    "# What is Qiskit Runtime\n",
    "\n",
    "Qiskit Runtime is a new programming model, bring quantum closer to classical to speed up hybrid workflow\n",
    "\n",
    "\n",
    "## Why do we want  to use Qiskit Runtime?\n",
    "\n",
    "Qiskit Runtime can speed up hybrid workflow"
   ]
  },
  {
   "cell_type": "markdown",
   "id": "405ed462",
   "metadata": {
    "slideshow": {
     "slide_type": "slide"
    }
   },
   "source": [
    "# Getting started with Qiskit Runtime"
   ]
  },
  {
   "cell_type": "markdown",
   "id": "7f1a7300",
   "metadata": {
    "slideshow": {
     "slide_type": "subslide"
    }
   },
   "source": [
    "# Installation\n",
    "\n",
    "```bash\n",
    "pip install qiskit\n",
    "pip install qiskit-ibm-runtime\n",
    "```"
   ]
  },
  {
   "cell_type": "markdown",
   "id": "a7207d1f",
   "metadata": {
    "slideshow": {
     "slide_type": "subslide"
    }
   },
   "source": [
    "# Find your access credentials\n",
    "\n",
    "You can access Qiskit Runtime from either IBM Quantum or IBM Cloud.\n",
    "\n",
    "## IBM Quantum"
   ]
  },
  {
   "cell_type": "code",
   "execution_count": null,
   "id": "7b939430",
   "metadata": {
    "slideshow": {
     "slide_type": "fragment"
    }
   },
   "outputs": [],
   "source": [
    "from qiskit_ibm_runtime import QiskitRuntimeService\n",
    "\n",
    "# Save an IBM Quantum account.\n",
    "QiskitRuntimeService.save_account(channel=\"ibm_quantum\", token=\"MY_IBM_QUANTUM_TOKEN\")"
   ]
  },
  {
   "cell_type": "markdown",
   "id": "adceff23",
   "metadata": {
    "slideshow": {
     "slide_type": "fragment"
    }
   },
   "source": [
    "Retrieve IBM Quantum token here: https://quantum-computing.ibm.com/account\n",
    "\n",
    "## IBM Cloud"
   ]
  },
  {
   "cell_type": "code",
   "execution_count": null,
   "id": "29c6bd44",
   "metadata": {
    "slideshow": {
     "slide_type": "fragment"
    }
   },
   "outputs": [],
   "source": [
    "# Save an IBM Cloud account.\n",
    "QiskitRuntimeService.save_account(channel=\"ibm_cloud\", \n",
    "                                  token=\"MY_IBM_CLOUD_API_KEY\", \n",
    "                                  instance=\"MY_IBM_CLOUD_CRN\")"
   ]
  },
  {
   "cell_type": "markdown",
   "id": "b6deea09",
   "metadata": {
    "slideshow": {
     "slide_type": "fragment"
    }
   },
   "source": [
    "Retrieve IBM Cloud token here: https://cloud.ibm.com/docs/quantum-computing?topic=quantum-computing-quickstart"
   ]
  },
  {
   "cell_type": "markdown",
   "id": "2f3ef8f5",
   "metadata": {
    "slideshow": {
     "slide_type": "subslide"
    }
   },
   "source": [
    "# Run \"Hello World\" program"
   ]
  },
  {
   "cell_type": "code",
   "execution_count": null,
   "id": "9294b034",
   "metadata": {
    "slideshow": {
     "slide_type": "fragment"
    }
   },
   "outputs": [],
   "source": [
    "from qiskit_ibm_runtime import QiskitRuntimeService\n",
    "\n",
    "service = QiskitRuntimeService()\n",
    "program_inputs = {'iterations': 1}\n",
    "options = {\"backend_name\": \"ibmq_qasm_simulator\"}\n",
    "job = service.run(program_id=\"hello-world\",\n",
    "                options=options,\n",
    "                inputs=program_inputs\n",
    "                )\n",
    "print(f\"job id: {job.job_id}\")\n",
    "result = job.result()\n",
    "print(result)"
   ]
  }
 ],
 "metadata": {
  "celltoolbar": "Slideshow",
  "kernelspec": {
   "display_name": "primitives",
   "language": "python",
   "name": "primitives"
  },
  "language_info": {
   "codemirror_mode": {
    "name": "ipython",
    "version": 3
   },
   "file_extension": ".py",
   "mimetype": "text/x-python",
   "name": "python",
   "nbconvert_exporter": "python",
   "pygments_lexer": "ipython3",
   "version": "3.9.7"
  }
 },
 "nbformat": 4,
 "nbformat_minor": 5
}
