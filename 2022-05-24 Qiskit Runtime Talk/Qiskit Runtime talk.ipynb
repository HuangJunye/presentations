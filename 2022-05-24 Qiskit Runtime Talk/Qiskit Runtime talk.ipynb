{
 "cells": [
  {
   "cell_type": "markdown",
   "id": "4f6a6d51",
   "metadata": {
    "slideshow": {
     "slide_type": "notes"
    }
   },
   "source": [
    "Outline\n",
    "- Cover\n",
    "- Speaker\n",
    "- Overview\n",
    "- What is Qiskit Runtime\n",
    "    - Why do we want to use Qiskit Runtime?\n",
    "- Getting started with Qiskit Runtime\n",
    "    - Installation\n",
    "    - Get access credentials\n",
    "    - Run \"hello world\" program\n",
    "- Primitives\n",
    "    - Why do we want to change to primitives model?\n",
    "    - What are the primitives?\n",
    "        - Sampler\n",
    "        - Estimator\n",
    "    - Demo\n",
    "        - Grover with sampler\n",
    "        - VQE with estimator\n",
    "            - Qiskit Nature and other modules will be refactored"
   ]
  },
  {
   "cell_type": "markdown",
   "id": "39461425",
   "metadata": {
    "slideshow": {
     "slide_type": "slide"
    }
   },
   "source": [
    "# Qiskit Runtime talk\n",
    "\n",
    "By Junye Huang, Quantum Developer Advocate\n",
    "\n",
    "Date: May 24, 2022"
   ]
  },
  {
   "cell_type": "markdown",
   "id": "5bb45ed2",
   "metadata": {
    "slideshow": {
     "slide_type": "slide"
    }
   },
   "source": [
    "# About the speaker\n",
    "\n",
    "Junye Huang is a Quantum Developer Advocate focusing on quantum education."
   ]
  },
  {
   "cell_type": "markdown",
   "id": "2c573008",
   "metadata": {
    "slideshow": {
     "slide_type": "slide"
    }
   },
   "source": [
    "# Outline\n",
    "\n",
    "- What is Qiskit Runtime\n",
    "- Getting started with Qiskit Runtime\n",
    "- Qiskit Primitives"
   ]
  },
  {
   "cell_type": "markdown",
   "id": "a734aa50",
   "metadata": {
    "slideshow": {
     "slide_type": "slide"
    }
   },
   "source": [
    "# What is Qiskit Runtime\n",
    "\n",
    "Qiskit Runtime is a new programming model, bring quantum closer to classical to speed up hybrid workflow\n",
    "\n",
    "\n",
    "## Why do we want  to use Qiskit Runtime?\n",
    "\n",
    "Qiskit Runtime can speed up hybrid workflow"
   ]
  },
  {
   "cell_type": "markdown",
   "id": "405ed462",
   "metadata": {
    "slideshow": {
     "slide_type": "slide"
    }
   },
   "source": [
    "# Getting started with Qiskit Runtime"
   ]
  },
  {
   "cell_type": "markdown",
   "id": "7f1a7300",
   "metadata": {
    "slideshow": {
     "slide_type": "subslide"
    }
   },
   "source": [
    "# Installation\n",
    "\n",
    "```bash\n",
    "pip install qiskit\n",
    "pip install qiskit-ibm-runtime\n",
    "```"
   ]
  },
  {
   "cell_type": "markdown",
   "id": "614c867a",
   "metadata": {
    "slideshow": {
     "slide_type": "subslide"
    }
   },
   "source": [
    "# Find your access credentials\n",
    "\n",
    "You can access Qiskit Runtime from either IBM Quantum or IBM Cloud."
   ]
  },
  {
   "cell_type": "markdown",
   "id": "a7207d1f",
   "metadata": {
    "slideshow": {
     "slide_type": "fragment"
    }
   },
   "source": [
    "## IBM Quantum\n",
    "\n",
    "Retrieve IBM Quantum token here: https://quantum-computing.ibm.com/account"
   ]
  },
  {
   "cell_type": "code",
   "execution_count": null,
   "id": "7b939430",
   "metadata": {
    "slideshow": {
     "slide_type": "-"
    }
   },
   "outputs": [],
   "source": [
    "from qiskit_ibm_runtime import QiskitRuntimeService\n",
    "\n",
    "QiskitRuntimeService.save_account(channel=\"ibm_quantum\", token=\"MY_IBM_QUANTUM_TOKEN\")"
   ]
  },
  {
   "cell_type": "markdown",
   "id": "adceff23",
   "metadata": {
    "slideshow": {
     "slide_type": "fragment"
    }
   },
   "source": [
    "## IBM Cloud\n",
    "\n",
    "Retrieve IBM Cloud token here: https://cloud.ibm.com/docs/quantum-computing?topic=quantum-computing-quickstart"
   ]
  },
  {
   "cell_type": "code",
   "execution_count": null,
   "id": "29c6bd44",
   "metadata": {
    "slideshow": {
     "slide_type": "-"
    }
   },
   "outputs": [],
   "source": [
    "QiskitRuntimeService.save_account(channel=\"ibm_cloud\", \n",
    "                                  token=\"MY_IBM_CLOUD_API_KEY\", \n",
    "                                  instance=\"MY_IBM_CLOUD_CRN\")"
   ]
  },
  {
   "cell_type": "markdown",
   "id": "2d786a54",
   "metadata": {
    "slideshow": {
     "slide_type": "subslide"
    }
   },
   "source": [
    "# Run \"Hello World\" program"
   ]
  },
  {
   "cell_type": "code",
   "execution_count": 1,
   "id": "d187f8ba",
   "metadata": {
    "slideshow": {
     "slide_type": "fragment"
    }
   },
   "outputs": [
    {
     "name": "stdout",
     "output_type": "stream",
     "text": [
      "job id: ca5lvql9epflseke5bl0\n",
      "Hello, World!\n"
     ]
    }
   ],
   "source": [
    "from qiskit_ibm_runtime import QiskitRuntimeService\n",
    "\n",
    "service = QiskitRuntimeService()\n",
    "program_inputs = {'iterations': 1}\n",
    "options = {\"backend_name\": \"ibmq_qasm_simulator\"}\n",
    "job = service.run(program_id=\"hello-world\",\n",
    "                  options=options,\n",
    "                  inputs=program_inputs\n",
    "                 )\n",
    "print(f\"job id: {job.job_id}\")\n",
    "result = job.result()\n",
    "print(result)"
   ]
  },
  {
   "cell_type": "markdown",
   "id": "35127e45",
   "metadata": {
    "slideshow": {
     "slide_type": "slide"
    }
   },
   "source": [
    "# Qiskit Primitives\n",
    "\n",
    "What are they and why do we need them?"
   ]
  },
  {
   "cell_type": "markdown",
   "id": "b9170b1c",
   "metadata": {
    "slideshow": {
     "slide_type": "subslide"
    }
   },
   "source": [
    "# Sampler primitive"
   ]
  },
  {
   "cell_type": "markdown",
   "id": "17fff54f",
   "metadata": {
    "slideshow": {
     "slide_type": "subslide"
    }
   },
   "source": [
    "# Estimator primitive"
   ]
  },
  {
   "cell_type": "markdown",
   "id": "8f465eb9",
   "metadata": {
    "slideshow": {
     "slide_type": "subslide"
    }
   },
   "source": [
    "# More primitives in the roadmap\n",
    "\n",
    "- Integrator\n",
    "- Discriminator"
   ]
  },
  {
   "cell_type": "markdown",
   "id": "0209d0cb",
   "metadata": {
    "slideshow": {
     "slide_type": "slide"
    }
   },
   "source": [
    "# How to use Sampler primitive"
   ]
  },
  {
   "cell_type": "code",
   "execution_count": 2,
   "id": "1f6f0bc7",
   "metadata": {
    "slideshow": {
     "slide_type": "fragment"
    }
   },
   "outputs": [
    {
     "data": {
      "image/png": "[encoded data removed]",
      "text/plain": [
       "<Figure size 417.879x204.68 with 1 Axes>"
      ]
     },
     "execution_count": 2,
     "metadata": {},
     "output_type": "execute_result"
    }
   ],
   "source": [
    "from qiskit import QuantumCircuit\n",
    "\n",
    "bell = QuantumCircuit(2)\n",
    "bell.h(0)\n",
    "bell.cx(0, 1)\n",
    "bell.measure_all()\n",
    "bell.draw()"
   ]
  },
  {
   "cell_type": "code",
   "execution_count": 3,
   "id": "b9ea4fc2",
   "metadata": {
    "slideshow": {
     "slide_type": "subslide"
    }
   },
   "outputs": [
    {
     "name": "stdout",
     "output_type": "stream",
     "text": [
      "SamplerResult(quasi_dists=[{'00': 0.486328125, '11': 0.513671875}], metadata=[{'header_metadata': {}, 'shots': 1024}])\n"
     ]
    }
   ],
   "source": [
    "from qiskit_ibm_runtime import Sampler\n",
    "\n",
    "with Sampler(circuits=bell, service=service, options={\"backend\": \"ibmq_qasm_simulator\"}) as sampler:\n",
    "    result = sampler(circuit_indices=[0], shots=1024)\n",
    "    print(result)"
   ]
  },
  {
   "cell_type": "markdown",
   "id": "920795fb",
   "metadata": {
    "slideshow": {
     "slide_type": "fragment"
    }
   },
   "source": [
    "## Running mutiple circuits"
   ]
  },
  {
   "cell_type": "code",
   "execution_count": 4,
   "id": "e4907471",
   "metadata": {
    "slideshow": {
     "slide_type": "fragment"
    }
   },
   "outputs": [
    {
     "name": "stdout",
     "output_type": "stream",
     "text": [
      "SamplerResult(quasi_dists=[{'11': 0.49560546875, '00': 0.50439453125}, {'11': 0.4970703125, '00': 0.5029296875}, {'00': 0.48046875, '11': 0.51953125}], metadata=[{'header_metadata': {}, 'shots': 2048}, {'header_metadata': {}, 'shots': 2048}, {'header_metadata': {}, 'shots': 2048}])\n"
     ]
    }
   ],
   "source": [
    "with Sampler(circuits=[bell]*3, service=service, options={\"backend\": \"ibmq_qasm_simulator\"}) as sampler:\n",
    "    result = sampler(circuit_indices=[0, 1, 2], shots=2048)\n",
    "    print(result)"
   ]
  },
  {
   "cell_type": "markdown",
   "id": "0b538f77",
   "metadata": {
    "slideshow": {
     "slide_type": "subslide"
    }
   },
   "source": [
    "# Running parameterized circuits"
   ]
  },
  {
   "cell_type": "code",
   "execution_count": 5,
   "id": "c6b2c99b",
   "metadata": {
    "slideshow": {
     "slide_type": "fragment"
    }
   },
   "outputs": [
    {
     "data": {
      "image/png": "[encoded data removed]",
      "text/plain": [
       "<Figure size 598.479x204.68 with 1 Axes>"
      ]
     },
     "metadata": {},
     "output_type": "display_data"
    },
    {
     "data": {
      "image/png": "[encoded data removed]",
      "text/plain": [
       "<Figure size 718.879x204.68 with 1 Axes>"
      ]
     },
     "metadata": {},
     "output_type": "display_data"
    }
   ],
   "source": [
    "from qiskit.circuit.library import RealAmplitudes\n",
    "from IPython.display import display\n",
    "\n",
    "# parameterized circuit\n",
    "pqc = RealAmplitudes(num_qubits=2, reps=2)\n",
    "pqc.measure_all()\n",
    "pqc2 = RealAmplitudes(num_qubits=2, reps=3)\n",
    "pqc2.measure_all()\n",
    "\n",
    "display(pqc.decompose().draw())\n",
    "display(pqc2.decompose().draw())"
   ]
  },
  {
   "cell_type": "code",
   "execution_count": 6,
   "id": "1638e19e",
   "metadata": {
    "slideshow": {
     "slide_type": "subslide"
    }
   },
   "outputs": [
    {
     "name": "stdout",
     "output_type": "stream",
     "text": [
      "SamplerResult(quasi_dists=[{'00': 0.1416015625, '10': 0.109375, '01': 0.3603515625, '11': 0.388671875}, {'01': 0.029296875, '00': 0.0673828125, '10': 0.611328125, '11': 0.2919921875}, {'11': 0.0263671875, '10': 0.0869140625, '00': 0.171875, '01': 0.71484375}], metadata=[{'header_metadata': {}, 'shots': 1024}, {'header_metadata': {}, 'shots': 1024}, {'header_metadata': {}, 'shots': 1024}])\n"
     ]
    }
   ],
   "source": [
    "theta1 = [0, 1, 1, 2, 3, 5]\n",
    "theta2 = [1, 2, 3, 4, 5, 6]\n",
    "theta3 = [0, 1, 2, 3, 4, 5, 6, 7]\n",
    "\n",
    "with Sampler(circuits=[pqc, pqc2], service=service, options={\"backend\": \"ibmq_qasm_simulator\"}) as sampler:\n",
    "    result = sampler(circuit_indices=[0, 0, 1], parameter_values=[theta1, theta2, theta3])\n",
    "    print(result)"
   ]
  },
  {
   "cell_type": "markdown",
   "id": "04ffcb3a",
   "metadata": {
    "slideshow": {
     "slide_type": "slide"
    }
   },
   "source": [
    "# How to use Estimator primitive"
   ]
  },
  {
   "cell_type": "code",
   "execution_count": 7,
   "id": "e3179b00",
   "metadata": {
    "slideshow": {
     "slide_type": "fragment"
    }
   },
   "outputs": [
    {
     "data": {
      "image/png": "[encoded data removed]",
      "text/plain": [
       "<Figure size 387.452x144.48 with 1 Axes>"
      ]
     },
     "metadata": {},
     "output_type": "display_data"
    },
    {
     "data": {
      "image/png": "[encoded data removed]",
      "text/plain": [
       "<Figure size 507.852x144.48 with 1 Axes>"
      ]
     },
     "metadata": {},
     "output_type": "display_data"
    }
   ],
   "source": [
    "from qiskit.quantum_info import SparsePauliOp\n",
    "\n",
    "psi1 = RealAmplitudes(num_qubits=2, reps=2)\n",
    "psi2 = RealAmplitudes(num_qubits=2, reps=3)\n",
    "\n",
    "H1 = SparsePauliOp.from_list([(\"II\", 1), (\"IZ\", 2), (\"XI\", 3)])\n",
    "H2 = SparsePauliOp.from_list([(\"IZ\", 1)])\n",
    "H3 = SparsePauliOp.from_list([(\"ZI\", 1), (\"ZZ\", 1)])\n",
    "\n",
    "display(psi1.decompose().draw())\n",
    "display(psi2.decompose().draw())"
   ]
  },
  {
   "cell_type": "code",
   "execution_count": 8,
   "id": "248bb426",
   "metadata": {
    "slideshow": {
     "slide_type": "subslide"
    }
   },
   "outputs": [
    {
     "name": "stdout",
     "output_type": "stream",
     "text": [
      "EstimatorResult(values=array([1.55664062]), metadata=[{'variance': 8.971965789794922, 'shots': 1024}])\n",
      "EstimatorResult(values=array([-0.4921875 ,  0.09570312]), metadata=[{'variance': 0.75775146484375, 'shots': 1024}, {'variance': 1.9951896667480469, 'shots': 1024}])\n",
      "EstimatorResult(values=array([0.18554688]), metadata=[{'variance': 0.9655723571777344, 'shots': 1024}])\n",
      "EstimatorResult(values=array([1.53320312, 1.05859375]), metadata=[{'variance': 9.304027557373047, 'shots': 1024}, {'variance': 12.152267456054688, 'shots': 1024}])\n",
      "EstimatorResult(values=array([ 1.53515625,  0.23828125, -1.09765625]), metadata=[{'variance': 9.339340209960938, 'shots': 1024}, {'variance': 0.9432220458984375, 'shots': 1024}, {'variance': 1.2371673583984375, 'shots': 1024}])\n"
     ]
    }
   ],
   "source": [
    "from qiskit_ibm_runtime import Estimator\n",
    "\n",
    "with Estimator(circuits=[psi1, psi2], observables=[H1, H2, H3], service=service, \n",
    "               options={ \"backend\": \"ibmq_qasm_simulator\" }\n",
    ") as estimator:\n",
    "    theta1 = [0, 1, 1, 2, 3, 5]\n",
    "    theta2 = [0, 1, 1, 2, 3, 5, 8, 13]\n",
    "    theta3 = [1, 2, 3, 4, 5, 6]\n",
    "\n",
    "    # calculate [ <psi1(theta1)|H1|psi1(theta1)> ]\n",
    "    psi1_H1_result = estimator(circuit_indices=[0], observable_indices=[0], parameter_values=[theta1])\n",
    "    print(psi1_H1_result)\n",
    "\n",
    "    # calculate [ <psi1(theta1)|H2|psi1(theta1)>, <psi1(theta1)|H3|psi1(theta1)> ]\n",
    "    psi1_H23_result = estimator(circuit_indices=[0, 0], observable_indices=[1, 2], parameter_values=[theta1]*2)\n",
    "    print(psi1_H23_result)\n",
    "\n",
    "    # calculate [ <psi2(theta2)|H2|psi2(theta2)> ]\n",
    "    psi2_H2_result = estimator([1], [1], [theta2])\n",
    "    print(psi2_H2_result)\n",
    "\n",
    "    # calculate [ <psi1(theta1)|H1|psi1(theta1)>, <psi1(theta3)|H1|psi1(theta3)> ]\n",
    "    psi1_H1_result2 = estimator([0, 0], [0, 0], [theta1, theta3])\n",
    "    print(psi1_H1_result2)\n",
    "\n",
    "    # calculate [ <psi1(theta1)|H1|psi1(theta1)>, <psi2(theta2)|H2|psi2(theta2)>, <psi1(theta3)|H3|psi1(theta3)> ]\n",
    "    psi12_H23_result = estimator([0, 1, 0], [0, 1, 2], [theta1, theta2, theta3])\n",
    "    print(psi12_H23_result)"
   ]
  },
  {
   "cell_type": "code",
   "execution_count": null,
   "id": "ebeae33e",
   "metadata": {},
   "outputs": [],
   "source": []
  }
 ],
 "metadata": {
  "celltoolbar": "Slideshow",
  "kernelspec": {
   "display_name": "primitives",
   "language": "python",
   "name": "primitives"
  },
  "language_info": {
   "codemirror_mode": {
    "name": "ipython",
    "version": 3
   },
   "file_extension": ".py",
   "mimetype": "text/x-python",
   "name": "python",
   "nbconvert_exporter": "python",
   "pygments_lexer": "ipython3",
   "version": "3.9.7"
  }
 },
 "nbformat": 4,
 "nbformat_minor": 5
}
