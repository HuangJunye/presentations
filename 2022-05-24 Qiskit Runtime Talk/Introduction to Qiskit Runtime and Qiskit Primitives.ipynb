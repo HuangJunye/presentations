{
 "cells": [
  {
   "cell_type": "markdown",
   "id": "39461425",
   "metadata": {
    "slideshow": {
     "slide_type": "slide"
    }
   },
   "source": [
    "# Introduction to Qiskit Runtime and Qiskit Primitives\n",
    "\n",
    "Junye Huang\n",
    "\n",
    "Quantum Developer Advocate"
   ]
  },
  {
   "cell_type": "markdown",
   "id": "2c573008",
   "metadata": {
    "slideshow": {
     "slide_type": "slide"
    }
   },
   "source": [
    "# Outline\n",
    "\n",
    "- Qiskit Runtime\n",
    "  - What is Qiskit Runtime?\n",
    "  - Getting started with Qiskit Runtime\n",
    "- Qiskit Primitives\n",
    "  - What are Qiskit Primitives?\n",
    "  - How to use Sampler primitive\n",
    "  - How to use Estimator primitive"
   ]
  },
  {
   "cell_type": "markdown",
   "id": "a734aa50",
   "metadata": {
    "slideshow": {
     "slide_type": "slide"
    }
   },
   "source": [
    "# What is Qiskit Runtime\n",
    "\n",
    "Qiskit Runtime is a new programming model, bring quantum closer to classical to speed up hybrid workflow\n",
    "\n",
    "\n",
    "## Why do we want  to use Qiskit Runtime?\n",
    "\n",
    "Qiskit Runtime can speed up hybrid workflow"
   ]
  },
  {
   "cell_type": "markdown",
   "id": "405ed462",
   "metadata": {
    "slideshow": {
     "slide_type": "slide"
    }
   },
   "source": [
    "# Getting started with Qiskit Runtime"
   ]
  },
  {
   "cell_type": "markdown",
   "id": "7f1a7300",
   "metadata": {
    "slideshow": {
     "slide_type": "subslide"
    }
   },
   "source": [
    "# Installation\n",
    "\n",
    "```bash\n",
    "pip install qiskit\n",
    "pip install qiskit-ibm-runtime\n",
    "```"
   ]
  },
  {
   "cell_type": "markdown",
   "id": "51738e39",
   "metadata": {
    "slideshow": {
     "slide_type": "subslide"
    }
   },
   "source": [
    "# Find your access credentials\n",
    "\n",
    "You can access Qiskit Runtime from either IBM Quantum or IBM Cloud."
   ]
  },
  {
   "cell_type": "markdown",
   "id": "a7207d1f",
   "metadata": {
    "slideshow": {
     "slide_type": "fragment"
    }
   },
   "source": [
    "## IBM Quantum\n",
    "\n",
    "Retrieve IBM Quantum token here: https://quantum-computing.ibm.com/account"
   ]
  },
  {
   "cell_type": "code",
   "execution_count": null,
   "id": "7b939430",
   "metadata": {
    "slideshow": {
     "slide_type": "-"
    }
   },
   "outputs": [],
   "source": [
    "from qiskit_ibm_runtime import QiskitRuntimeService\n",
    "\n",
    "QiskitRuntimeService.save_account(channel=\"ibm_quantum\", token=\"MY_IBM_QUANTUM_TOKEN\")"
   ]
  },
  {
   "cell_type": "markdown",
   "id": "adceff23",
   "metadata": {
    "slideshow": {
     "slide_type": "fragment"
    }
   },
   "source": [
    "## IBM Cloud\n",
    "\n",
    "Retrieve IBM Cloud token here: https://cloud.ibm.com/docs/quantum-computing?topic=quantum-computing-quickstart"
   ]
  },
  {
   "cell_type": "code",
   "execution_count": null,
   "id": "29c6bd44",
   "metadata": {
    "slideshow": {
     "slide_type": "-"
    }
   },
   "outputs": [],
   "source": [
    "QiskitRuntimeService.save_account(channel=\"ibm_cloud\", \n",
    "                                  token=\"MY_IBM_CLOUD_API_KEY\", \n",
    "                                  instance=\"MY_IBM_CLOUD_CRN\")"
   ]
  },
  {
   "cell_type": "markdown",
   "id": "8aef6aa5",
   "metadata": {
    "slideshow": {
     "slide_type": "subslide"
    }
   },
   "source": [
    "# Run \"Hello World\" program"
   ]
  },
  {
   "cell_type": "code",
   "execution_count": 1,
   "id": "5952cc5e",
   "metadata": {
    "slideshow": {
     "slide_type": "fragment"
    }
   },
   "outputs": [
    {
     "name": "stdout",
     "output_type": "stream",
     "text": [
      "job id: ca5lvql9epflseke5bl0\n",
      "Hello, World!\n"
     ]
    }
   ],
   "source": [
    "from qiskit_ibm_runtime import QiskitRuntimeService\n",
    "\n",
    "service = QiskitRuntimeService()\n",
    "program_inputs = {'iterations': 1}\n",
    "options = {\"backend_name\": \"ibmq_qasm_simulator\"}\n",
    "job = service.run(program_id=\"hello-world\",\n",
    "                  options=options,\n",
    "                  inputs=program_inputs\n",
    "                 )\n",
    "print(f\"job id: {job.job_id}\")\n",
    "result = job.result()\n",
    "print(result)"
   ]
  },
  {
   "cell_type": "markdown",
   "id": "e90ca2e5",
   "metadata": {
    "slideshow": {
     "slide_type": "slide"
    }
   },
   "source": [
    "# What are Qiskit Primitives\n",
    "\n",
    "[Programming language primitives](https://en.wikipedia.org/wiki/Language_primitive) are the most basic block of processing available to a programmer.\n",
    "\n",
    "Qiskit primitives include 4 primitives with 4 levels of output\n",
    "1. Integrator: returns **raw voltages** of measurement signals\n",
    "2. Discriminator: returns **individual shot** measurement outcome\n",
    "3. Sampler: returns **(quasi-)probabilities** of measurement outcomes\n",
    "4. Estimator: returns **expectation value** of an observable\n",
    "\n",
    "Nested programs are composed of Qiskit primitives programs."
   ]
  },
  {
   "cell_type": "markdown",
   "id": "457869d3",
   "metadata": {
    "slideshow": {
     "slide_type": "subslide"
    }
   },
   "source": [
    "# Why do we change to Qiskit Primitives?\n",
    "\n",
    "Short answer: error mitigation.\n",
    "\n",
    "Long answer:\n",
    "1. We are already using these 4 levels of output. They were added in gradually and therefore messy. \n",
    "    1. integrator: pulse measurement level 0 & 1\n",
    "    2. discriminator: pulse measurement level 2 & `memory=True`\n",
    "    3. sampler: `result.get_counts()` & `circuit_runner` program\n",
    "    4. estimator: `opflow`\n",
    "2. Unifying the interfaces can enhance the abstractions and enable different kinds of error mitigation techniques to improve results at different output levels."
   ]
  },
  {
   "cell_type": "markdown",
   "id": "fa4ce260",
   "metadata": {
    "slideshow": {
     "slide_type": "slide"
    }
   },
   "source": [
    "# What is Sampler primitive\n",
    "\n",
    "Sampler is probably most familar program to existing Qiskit users. It's very similar to existing `backend.run()` model. The main difference is that instead of returing raw `counts`, the result is presented as `(quasi-)probability`.\n",
    "\n",
    "What does quasi-probability mean?\n",
    "- Can be negative values\n",
    "- Quantum mechanics allows for events with a negative expectation values, to acount for phenomena like destructive interference.\n",
    "\n",
    "Reference: https://en.wikipedia.org/wiki/Quasiprobability_distribution"
   ]
  },
  {
   "cell_type": "markdown",
   "id": "8b5011a7",
   "metadata": {
    "slideshow": {
     "slide_type": "subslide"
    }
   },
   "source": [
    "# How to use Sampler primitive"
   ]
  },
  {
   "cell_type": "code",
   "execution_count": 2,
   "id": "c0a84339",
   "metadata": {
    "slideshow": {
     "slide_type": "fragment"
    }
   },
   "outputs": [
    {
     "data": {
      "image/png": "[encoded data removed]",
      "text/plain": [
       "<Figure size 417.879x204.68 with 1 Axes>"
      ]
     },
     "execution_count": 2,
     "metadata": {},
     "output_type": "execute_result"
    }
   ],
   "source": [
    "from qiskit import QuantumCircuit\n",
    "\n",
    "bell = QuantumCircuit(2)\n",
    "bell.h(0)\n",
    "bell.cx(0, 1)\n",
    "bell.measure_all()\n",
    "bell.draw()"
   ]
  },
  {
   "cell_type": "code",
   "execution_count": 9,
   "id": "192cbcb5",
   "metadata": {
    "slideshow": {
     "slide_type": "subslide"
    }
   },
   "outputs": [
    {
     "name": "stdout",
     "output_type": "stream",
     "text": [
      "SamplerResult(quasi_dists=[{'00': 0.503, '11': 0.497}], metadata=[{'header_metadata': {}, 'shots': 1000}])\n",
      "SamplerResult(quasi_dists=[{'11': 0.517, '00': 0.483}], metadata=[{'header_metadata': {}, 'shots': 2000}])\n"
     ]
    }
   ],
   "source": [
    "from qiskit_ibm_runtime import Sampler\n",
    "\n",
    "with Sampler(circuits=bell, service=service, options={\"backend\": \"ibmq_qasm_simulator\"}) as sampler:\n",
    "    result1 = sampler(circuit_indices=[0], shots=1000)\n",
    "    print(result1)\n",
    "    \n",
    "    result2 = sampler(circuit_indices=[0], shots=2000)\n",
    "    print(result2)"
   ]
  },
  {
   "cell_type": "code",
   "execution_count": 10,
   "id": "4c54e7fa",
   "metadata": {
    "slideshow": {
     "slide_type": "-"
    }
   },
   "outputs": [
    {
     "name": "stdout",
     "output_type": "stream",
     "text": [
      "[{'00': 0.503, '11': 0.497}, {'11': 0.517, '00': 0.483}]\n"
     ]
    }
   ],
   "source": [
    "# You can see that the results are probabilities, not counts\n",
    "results_primitives = [result1.quasi_dists[0], result2.quasi_dists[0]]\n",
    "print(results_primitives)"
   ]
  },
  {
   "cell_type": "code",
   "execution_count": 11,
   "id": "6c9f9b3e",
   "metadata": {},
   "outputs": [
    {
     "data": {
      "image/png": "[encoded data removed]",
      "text/plain": [
       "<Figure size 504x360 with 1 Axes>"
      ]
     },
     "execution_count": 11,
     "metadata": {},
     "output_type": "execute_result"
    }
   ],
   "source": [
    "from qiskit.visualization import plot_histogram\n",
    "\n",
    "plot_histogram(results_primitives, legend=['shots=1000', 'shots=2000'])"
   ]
  },
  {
   "cell_type": "markdown",
   "id": "db0e7343",
   "metadata": {
    "slideshow": {
     "slide_type": "subslide"
    }
   },
   "source": [
    "# The Old Way"
   ]
  },
  {
   "cell_type": "code",
   "execution_count": 12,
   "id": "178ad9bc",
   "metadata": {},
   "outputs": [],
   "source": [
    "from qiskit import IBMQ\n",
    "\n",
    "provider = IBMQ.load_account()\n",
    "simulator = provider.get_backend('ibmq_qasm_simulator')\n",
    "\n",
    "job1 = simulator.run(bell, shots=1000)\n",
    "job2 = simulator.run(bell, shots=2000)"
   ]
  },
  {
   "cell_type": "code",
   "execution_count": 13,
   "id": "de315ce1",
   "metadata": {},
   "outputs": [
    {
     "name": "stdout",
     "output_type": "stream",
     "text": [
      "[{'00': 501, '11': 499}, {'00': 1005, '11': 995}]\n"
     ]
    }
   ],
   "source": [
    "# You can see that the results are counts, not probabilities\n",
    "results_backend_run = [job1.result().get_counts(), job2.result().get_counts()]\n",
    "print(results_backend_run)"
   ]
  },
  {
   "cell_type": "code",
   "execution_count": 14,
   "id": "57626476",
   "metadata": {},
   "outputs": [
    {
     "data": {
      "image/png": "[encoded data removed]",
      "text/plain": [
       "<Figure size 504x360 with 1 Axes>"
      ]
     },
     "execution_count": 14,
     "metadata": {},
     "output_type": "execute_result"
    }
   ],
   "source": [
    "plot_histogram(results_backend_run, legend=['shots=1000', 'shots=2000'])"
   ]
  },
  {
   "cell_type": "markdown",
   "id": "79239d89",
   "metadata": {
    "slideshow": {
     "slide_type": "subslide"
    }
   },
   "source": [
    "# Running mutiple circuits"
   ]
  },
  {
   "cell_type": "code",
   "execution_count": 16,
   "id": "d0079f02",
   "metadata": {
    "slideshow": {
     "slide_type": "-"
    }
   },
   "outputs": [
    {
     "name": "stdout",
     "output_type": "stream",
     "text": [
      "SamplerResult(quasi_dists=[{'11': 0.4935, '00': 0.5065}, {'11': 0.4855, '00': 0.5145}, {'00': 0.5085, '11': 0.4915}], metadata=[{'header_metadata': {}, 'shots': 2000}, {'header_metadata': {}, 'shots': 2000}, {'header_metadata': {}, 'shots': 2000}])\n"
     ]
    }
   ],
   "source": [
    "with Sampler(circuits=[bell]*3, service=service, options={\"backend\": \"ibmq_qasm_simulator\"}) as sampler:\n",
    "    result = sampler(circuit_indices=[0, 1, 2])\n",
    "    print(result)"
   ]
  },
  {
   "cell_type": "markdown",
   "id": "29f3bbce",
   "metadata": {
    "slideshow": {
     "slide_type": "subslide"
    }
   },
   "source": [
    "# Running parameterized circuits"
   ]
  },
  {
   "cell_type": "code",
   "execution_count": 5,
   "id": "613b3b76",
   "metadata": {
    "slideshow": {
     "slide_type": "-"
    }
   },
   "outputs": [
    {
     "data": {
      "image/png": "[encoded data removed]",
      "text/plain": [
       "<Figure size 598.479x204.68 with 1 Axes>"
      ]
     },
     "metadata": {},
     "output_type": "display_data"
    },
    {
     "data": {
      "image/png": "[encoded data removed]",
      "text/plain": [
       "<Figure size 718.879x204.68 with 1 Axes>"
      ]
     },
     "metadata": {},
     "output_type": "display_data"
    }
   ],
   "source": [
    "from qiskit.circuit.library import RealAmplitudes\n",
    "from IPython.display import display\n",
    "\n",
    "# parameterized circuit\n",
    "pqc = RealAmplitudes(num_qubits=2, reps=2)\n",
    "pqc.measure_all()\n",
    "pqc2 = RealAmplitudes(num_qubits=2, reps=3)\n",
    "pqc2.measure_all()\n",
    "\n",
    "display(pqc.decompose().draw())\n",
    "display(pqc2.decompose().draw())"
   ]
  },
  {
   "cell_type": "code",
   "execution_count": 6,
   "id": "733b0fcd",
   "metadata": {
    "slideshow": {
     "slide_type": "subslide"
    }
   },
   "outputs": [
    {
     "name": "stdout",
     "output_type": "stream",
     "text": [
      "SamplerResult(quasi_dists=[{'00': 0.1416015625, '10': 0.109375, '01': 0.3603515625, '11': 0.388671875}, {'01': 0.029296875, '00': 0.0673828125, '10': 0.611328125, '11': 0.2919921875}, {'11': 0.0263671875, '10': 0.0869140625, '00': 0.171875, '01': 0.71484375}], metadata=[{'header_metadata': {}, 'shots': 1024}, {'header_metadata': {}, 'shots': 1024}, {'header_metadata': {}, 'shots': 1024}])\n"
     ]
    }
   ],
   "source": [
    "theta1 = [0, 1, 1, 2, 3, 5]\n",
    "theta2 = [1, 2, 3, 4, 5, 6]\n",
    "theta3 = [0, 1, 2, 3, 4, 5, 6, 7]\n",
    "\n",
    "with Sampler(circuits=[pqc, pqc2], service=service, options={\"backend\": \"ibmq_qasm_simulator\"}) as sampler:\n",
    "    result = sampler(circuit_indices=[0, 0, 1], parameter_values=[theta1, theta2, theta3])\n",
    "    print(result)"
   ]
  },
  {
   "cell_type": "markdown",
   "id": "36f6d39f",
   "metadata": {
    "slideshow": {
     "slide_type": "slide"
    }
   },
   "source": [
    "# How to use Estimator primitive\n",
    "\n",
    "Estimator estimates the expecation value of an observable. "
   ]
  },
  {
   "cell_type": "code",
   "execution_count": 7,
   "id": "69d17090",
   "metadata": {
    "slideshow": {
     "slide_type": "fragment"
    }
   },
   "outputs": [
    {
     "data": {
      "image/png": "[encoded data removed]",
      "text/plain": [
       "<Figure size 387.452x144.48 with 1 Axes>"
      ]
     },
     "metadata": {},
     "output_type": "display_data"
    },
    {
     "data": {
      "image/png": "[encoded data removed]",
      "text/plain": [
       "<Figure size 507.852x144.48 with 1 Axes>"
      ]
     },
     "metadata": {},
     "output_type": "display_data"
    }
   ],
   "source": [
    "from qiskit.quantum_info import SparsePauliOp\n",
    "\n",
    "psi1 = RealAmplitudes(num_qubits=2, reps=2)\n",
    "psi2 = RealAmplitudes(num_qubits=2, reps=3)\n",
    "\n",
    "H1 = SparsePauliOp.from_list([(\"II\", 1), (\"IZ\", 2), (\"XI\", 3)])\n",
    "H2 = SparsePauliOp.from_list([(\"IZ\", 1)])\n",
    "H3 = SparsePauliOp.from_list([(\"ZI\", 1), (\"ZZ\", 1)])\n",
    "\n",
    "display(psi1.decompose().draw())\n",
    "display(psi2.decompose().draw())"
   ]
  },
  {
   "cell_type": "code",
   "execution_count": 8,
   "id": "6536c2e5",
   "metadata": {
    "slideshow": {
     "slide_type": "subslide"
    }
   },
   "outputs": [
    {
     "name": "stdout",
     "output_type": "stream",
     "text": [
      "EstimatorResult(values=array([1.55664062]), metadata=[{'variance': 8.971965789794922, 'shots': 1024}])\n",
      "EstimatorResult(values=array([-0.4921875 ,  0.09570312]), metadata=[{'variance': 0.75775146484375, 'shots': 1024}, {'variance': 1.9951896667480469, 'shots': 1024}])\n",
      "EstimatorResult(values=array([0.18554688]), metadata=[{'variance': 0.9655723571777344, 'shots': 1024}])\n",
      "EstimatorResult(values=array([1.53320312, 1.05859375]), metadata=[{'variance': 9.304027557373047, 'shots': 1024}, {'variance': 12.152267456054688, 'shots': 1024}])\n",
      "EstimatorResult(values=array([ 1.53515625,  0.23828125, -1.09765625]), metadata=[{'variance': 9.339340209960938, 'shots': 1024}, {'variance': 0.9432220458984375, 'shots': 1024}, {'variance': 1.2371673583984375, 'shots': 1024}])\n"
     ]
    }
   ],
   "source": [
    "from qiskit_ibm_runtime import Estimator\n",
    "\n",
    "with Estimator(circuits=[psi1, psi2], observables=[H1, H2, H3], service=service, \n",
    "               options={\"backend\": \"ibmq_qasm_simulator\"}\n",
    ") as estimator:\n",
    "    theta1 = [0, 1, 1, 2, 3, 5]\n",
    "    theta2 = [0, 1, 1, 2, 3, 5, 8, 13]\n",
    "    theta3 = [1, 2, 3, 4, 5, 6]\n",
    "\n",
    "    # calculate [ <psi1(theta1)|H1|psi1(theta1)> ]\n",
    "    psi1_H1_result = estimator(circuit_indices=[0], observable_indices=[0], parameter_values=[theta1])\n",
    "    print(psi1_H1_result)\n",
    "\n",
    "    # calculate [ <psi1(theta1)|H2|psi1(theta1)>, <psi1(theta1)|H3|psi1(theta1)> ]\n",
    "    psi1_H23_result = estimator(circuit_indices=[0, 0], observable_indices=[1, 2], parameter_values=[theta1]*2)\n",
    "    print(psi1_H23_result)\n",
    "\n",
    "    # calculate [ <psi2(theta2)|H2|psi2(theta2)> ]\n",
    "    psi2_H2_result = estimator([1], [1], [theta2])\n",
    "    print(psi2_H2_result)\n",
    "\n",
    "    # calculate [ <psi1(theta1)|H1|psi1(theta1)>, <psi1(theta3)|H1|psi1(theta3)> ]\n",
    "    psi1_H1_result2 = estimator([0, 0], [0, 0], [theta1, theta3])\n",
    "    print(psi1_H1_result2)\n",
    "\n",
    "    # calculate [ <psi1(theta1)|H1|psi1(theta1)>, <psi2(theta2)|H2|psi2(theta2)>, <psi1(theta3)|H3|psi1(theta3)> ]\n",
    "    psi12_H123_result = estimator([0, 1, 0], [0, 1, 2], [theta1, theta2, theta3])\n",
    "    print(psi12_H123_result)"
   ]
  },
  {
   "cell_type": "code",
   "execution_count": 18,
   "id": "243038f8",
   "metadata": {
    "slideshow": {
     "slide_type": "slide"
    }
   },
   "outputs": [
    {
     "data": {
      "text/plain": [
       "'0.4.0'"
      ]
     },
     "execution_count": 18,
     "metadata": {},
     "output_type": "execute_result"
    }
   ],
   "source": [
    "import qiskit_ibm_runtime\n",
    "qiskit_ibm_runtime.version.get_version_info()"
   ]
  },
  {
   "cell_type": "code",
   "execution_count": 17,
   "id": "402017ab",
   "metadata": {
    "slideshow": {
     "slide_type": "-"
    }
   },
   "outputs": [
    {
     "data": {
      "text/html": [
       "<h3>Version Information</h3><table><tr><th>Qiskit Software</th><th>Version</th></tr><tr><td><code>qiskit-terra</code></td><td>0.20.1</td></tr><tr><td><code>qiskit-aer</code></td><td>0.10.4</td></tr><tr><td><code>qiskit-ignis</code></td><td>0.7.0</td></tr><tr><td><code>qiskit-ibmq-provider</code></td><td>0.19.1</td></tr><tr><td><code>qiskit</code></td><td>0.36.1</td></tr><tr><td><code>qiskit-nature</code></td><td>0.3.1</td></tr><tr><th>System information</th></tr><tr><td>Python version</td><td>3.9.7</td></tr><tr><td>Python compiler</td><td>Clang 10.0.0 </td></tr><tr><td>Python build</td><td>default, Sep 16 2021 08:50:36</td></tr><tr><td>OS</td><td>Darwin</td></tr><tr><td>CPUs</td><td>8</td></tr><tr><td>Memory (Gb)</td><td>16.0</td></tr><tr><td colspan='2'>Mon May 23 12:51:58 2022 CEST</td></tr></table>"
      ],
      "text/plain": [
       "<IPython.core.display.HTML object>"
      ]
     },
     "metadata": {},
     "output_type": "display_data"
    }
   ],
   "source": [
    "import qiskit.tools.jupyter\n",
    "\n",
    "%qiskit_version_table"
   ]
  }
 ],
 "metadata": {
  "celltoolbar": "Slideshow",
  "kernelspec": {
   "display_name": "primitives",
   "language": "python",
   "name": "primitives"
  },
  "language_info": {
   "codemirror_mode": {
    "name": "ipython",
    "version": 3
   },
   "file_extension": ".py",
   "mimetype": "text/x-python",
   "name": "python",
   "nbconvert_exporter": "python",
   "pygments_lexer": "ipython3",
   "version": "3.9.7"
  }
 },
 "nbformat": 4,
 "nbformat_minor": 5
}
